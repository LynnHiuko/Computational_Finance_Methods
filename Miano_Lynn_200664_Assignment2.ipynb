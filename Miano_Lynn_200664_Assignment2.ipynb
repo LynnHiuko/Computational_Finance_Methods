{
  "nbformat": 4,
  "nbformat_minor": 0,
  "metadata": {
    "colab": {
      "provenance": [],
      "authorship_tag": "ABX9TyMT7cWaGeMmNAp/S7zYYadW",
      "include_colab_link": true
    },
    "kernelspec": {
      "name": "python3",
      "display_name": "Python 3"
    },
    "language_info": {
      "name": "python"
    }
  },
  "cells": [
    {
      "cell_type": "markdown",
      "metadata": {
        "id": "view-in-github",
        "colab_type": "text"
      },
      "source": [
        "<a href=\"https://colab.research.google.com/github/LynnHiuko/Computational_Finance_Methods/blob/main/Miano_Lynn_200664_Assignment2.ipynb\" target=\"_parent\"><img src=\"https://colab.research.google.com/assets/colab-badge.svg\" alt=\"Open In Colab\"/></a>"
      ]
    },
    {
      "cell_type": "markdown",
      "source": [
        "MIANO LYNN HIUKO  \n",
        "200664  \n",
        "MFI 8302  \n",
        "COMPUTATIONAL METHODS IN FINANCE  \n",
        "ASSIGNMENT 2  \n"
      ],
      "metadata": {
        "id": "JbUSDAiCQKIs"
      }
    },
    {
      "cell_type": "markdown",
      "source": [
        "Q1.  Consider the expression for the price of a European call option, namely\n",
        "C(S, t) = e\n",
        "−r(T −t) Eet\n",
        "\u0002\n",
        "C(ST , T)\n",
        "\u0003\n",
        ",\n",
        "where Eet\n",
        "is generated according to the process\n",
        "dS = rS dt + σS dze(t)."
      ],
      "metadata": {
        "id": "PE6fIMMpV_d9"
      }
    },
    {
      "cell_type": "markdown",
      "source": [
        "(a) Approximate the expectation by simulating M paths for S"
      ],
      "metadata": {
        "id": "B0BVMnhnWEOr"
      }
    },
    {
      "cell_type": "code",
      "execution_count": 4,
      "metadata": {
        "id": "imupN-PbQFtj"
      },
      "outputs": [],
      "source": [
        "# Importing necesssary libraries\n",
        "import numpy as np\n",
        "from scipy.stats import norm\n",
        "import time\n"
      ]
    },
    {
      "cell_type": "code",
      "source": [
        "# Writing the Black Scholes analytic price function\n",
        "def bs_european_calls(S, K, r, sigma, tau):\n",
        "  if tau <= 0:\n",
        "    price = max(S - K, 0)\n",
        "    return max(S - K, 0)\n",
        "  d1 = (np.log(S / K) + (r + 0.5 * sigma ** 2) * tau) / (sigma * np.sqrt(tau))\n",
        "  d2 = d1 - sigma * np.sqrt(tau)\n",
        "  return S * norm.cdf(d1) - K * np.exp(-r * tau) * norm.cdf(d2)"
      ],
      "metadata": {
        "id": "Vv_jGh_bemti"
      },
      "execution_count": 5,
      "outputs": []
    },
    {
      "cell_type": "code",
      "source": [
        "# Monte Carlo exact-sampling estimator\n",
        "def mc_european_call_exact(S, K, r, sigma, t, T, M, seed=None):\n",
        "  rng=np.random.default_rng(seed)\n",
        "  tau = T - t\n",
        "  if tau <= 0:\n",
        "    price = max(S - K, 0.0)\n",
        "    ci = (price, price)\n",
        "    s = 0.0\n",
        "    elapsed = 0.0\n",
        "    return price, ci, s, elapsed\n",
        "\n",
        "  start = time.time()\n",
        "  Z = rng.standard_normal(M)\n",
        "  S_T = S * np.exp((r - 0.5 * sigma ** 2) * tau + sigma * np.sqrt(tau) * Z)\n",
        "  X = np.exp(-r * tau) * np.maximum(S_T - K, 0)\n",
        "  price = np.mean(X)\n",
        "  s = X.std(ddof = 1)\n",
        "  se = s / np.sqrt(M)\n",
        "  z95 = 1.96\n",
        "  ci = (price - z95*se, price + z95*se)\n",
        "  elapsed = time.time() - start\n",
        "  return price, ci, s, elapsed"
      ],
      "metadata": {
        "id": "zU21FY1yfr3N"
      },
      "execution_count": 6,
      "outputs": []
    },
    {
      "cell_type": "markdown",
      "source": [
        "(b) Compare graphically the simulated values for various M with the true Black–Scholes\n",
        "value"
      ],
      "metadata": {
        "id": "3CXVKkksi-Di"
      }
    },
    {
      "cell_type": "code",
      "source": [
        "# Running with actual parameters\n",
        "S = 100\n",
        "K = 100\n",
        "r = 0.05\n",
        "sigma = 0.2\n",
        "t = 0\n",
        "T = 0.5\n",
        "M_values = [500, 1000, 5000, 10000, 50000, 100000]\n",
        "seed = 123\n",
        "\n",
        "mc_estimates = []\n",
        "ci_lowers = []\n",
        "ci_uppers = []\n",
        "\n",
        "for i, M in enumerate(M_values):\n",
        "  price_mc, ci_mc, s_mc, elapsed = mc_european_call_exact(S, K, r, sigma, t, T, M, seed + i)\n",
        "  price_bs = bs_european_calls(S, K, r, sigma, T - t)\n",
        "  mc_estimates.append(price_mc)\n",
        "  ci_lowers.append(ci_mc[0])\n",
        "  ci_uppers.append(ci_mc[1])\n",
        "\n",
        "\n",
        "print(f\"Monte Carlo estimate (M={M}): {price_mc:.6f}\")\n",
        "print(f\"95% CI: ({ci_mc[0]:.6f}, {ci_mc[1]:.6f})\")\n",
        "print(f\"Sample std of discounted payoffs: {s_mc:.6f}\")\n",
        "print(f\"Elapsed time: {elapsed:.3f} s\")\n",
        "print(f\"Black-Scholes analytic price: {price_bs:.6f}\")"
      ],
      "metadata": {
        "colab": {
          "base_uri": "https://localhost:8080/"
        },
        "id": "iH8YjLn7YV1_",
        "outputId": "a555a6cf-c16a-49eb-8118-e1c56ed59fd1"
      },
      "execution_count": 7,
      "outputs": [
        {
          "output_type": "stream",
          "name": "stdout",
          "text": [
            "Monte Carlo estimate (M=100000): 6.927695\n",
            "95% CI: (6.866728, 6.988663)\n",
            "Sample std of discounted payoffs: 9.836519\n",
            "Elapsed time: 0.004 s\n",
            "Black-Scholes analytic price: 6.888729\n"
          ]
        }
      ]
    },
    {
      "cell_type": "code",
      "source": [
        "# Graphical presentation\n",
        "import matplotlib.pyplot as plt\n",
        "plt.figure(figsize=(10, 6))\n",
        "plt.axhline(price_bs, color='r', linestyle='--', label='Black-Scholes Price')\n",
        "plt.errorbar(M_values, mc_estimates,\n",
        "             yerr=[np.array(mc_estimates)-np.array(ci_lowers), np.array(ci_uppers)-np.array(mc_estimates)],\n",
        "             fmt='o', capsize=5, label=\"MC estimates (95% CI)\")\n",
        "plt.xscale('log')\n",
        "plt.xlabel('Number of Simulations (M)')\n",
        "plt.ylabel('Price')\n",
        "plt.title('Monte Carlo vs Black-Scholes Price')\n",
        "plt.legend()\n",
        "plt.grid(True)\n",
        "plt.show()"
      ],
      "metadata": {
        "colab": {
          "base_uri": "https://localhost:8080/",
          "height": 569
        },
        "id": "qIxUXFVa0RO2",
        "outputId": "4c1c81b1-f739-4e62-d36f-89f486c3f807"
      },
      "execution_count": 8,
      "outputs": [
        {
          "output_type": "display_data",
          "data": {
            "text/plain": [
              "<Figure size 1000x600 with 1 Axes>"
            ],
            "image/png": "[encoded data removed]"
          },
          "metadata": {}
        }
      ]
    },
    {
      "cell_type": "markdown",
      "source": [
        "(c)  Instead of using discretisation to simulate paths for S, use instead the explicit solution\n",
        "for the GBM"
      ],
      "metadata": {
        "id": "o-IWuJVW1iWd"
      }
    },
    {
      "cell_type": "code",
      "source": [
        "def mc_european_call_explicit(S0, K, r, sigma, t, T, M, seed=None):\n",
        "  rng = np.random.default_rng(seed)\n",
        "  tau = T - t\n",
        "\n",
        "  if tau <= 0:\n",
        "    price = max(S0 - K, 0.0)\n",
        "    ci = (price, price)\n",
        "    s = 0.0\n",
        "    elapsed = 0.0\n",
        "    return price, ci, s, elapsed\n",
        "\n",
        "    start = time.time()\n",
        "\n",
        "    #Explicit solution for GBM\n",
        "    Z = rng.standard_normal(M)\n",
        "    S_T = S0 * np.exp((r - 0.5 * sigma ** 2) * tau + sigma * np.sqrt(tau) * Z)\n",
        "\n",
        "    # Discounted payoff\n",
        "    X= np.exp(-r * tau) * np.maximum(S_T - K, 0.0)\n",
        "\n",
        "    # Monte Carlo estimate\n",
        "    price = np.mean(X)\n",
        "    s = X.std(ddof=1)\n",
        "    se = s / np.sqrt(M)\n",
        "    ci = (price - 1.96 * se, price + 1.96 * se)\n",
        "    elapsed = time.time() - start\n",
        "\n",
        "    return price, ci, s, elapsed\n",
        ""
      ],
      "metadata": {
        "id": "cr8psXFl1Byu"
      },
      "execution_count": 39,
      "outputs": []
    },
    {
      "cell_type": "code",
      "source": [
        "# Monte Carlo with explicit GBM\n",
        "def mc_european_call_explicit(S0, K, r, sigma, t, T, M, seed=None):\n",
        "    rng = np.random.default_rng(seed)\n",
        "    tau = T - t\n",
        "\n",
        "    if tau <= 0:\n",
        "        price = max(S0 - K, 0.0)\n",
        "        ci = (price, price)\n",
        "        s = 0.0\n",
        "        elapsed = 0.0\n",
        "        return price, ci, s, elapsed\n",
        "\n",
        "    start = time.time()\n",
        "    # Explicit solution for GBM\n",
        "    Z = rng.standard_normal(M)\n",
        "    S_T = S0 * np.exp((r - 0.5 * sigma**2) * tau + sigma * np.sqrt(tau) * Z)\n",
        "\n",
        "    # Discounted payoff\n",
        "    X = np.exp(-r * tau) * np.maximum(S_T - K, 0.0)\n",
        "\n",
        "    # Monte Carlo estimate\n",
        "    price = np.mean(X)\n",
        "    s = X.std(ddof=1)\n",
        "    se = s / np.sqrt(M)\n",
        "    ci = (price - 1.96 * se, price + 1.96 * se)\n",
        "    elapsed = time.time() - start\n",
        "\n",
        "    return price, ci, s, elapsed"
      ],
      "metadata": {
        "id": "Mup8GHIT0tDG"
      },
      "execution_count": 44,
      "outputs": []
    },
    {
      "cell_type": "code",
      "source": [
        "# Black–Scholes closed form\n",
        "def bs_european_call(S, K, r, sigma, tau):\n",
        "    if tau <= 0:\n",
        "        return max(S - K, 0.0)\n",
        "    d1 = (np.log(S / K) + (r + 0.5 * sigma**2) * tau) / (sigma * np.sqrt(tau))\n",
        "    d2 = d1 - sigma * np.sqrt(tau)\n",
        "    return S * norm.cdf(d1) - K * np.exp(-r * tau) * norm.cdf(d2)\n",
        "\n",
        "# Parameters\n",
        "S0 = 100\n",
        "K = 100\n",
        "r = 0.05\n",
        "sigma = 0.2\n",
        "t = 0\n",
        "T = 1\n",
        "M = 100_000\n",
        "seed = 123\n",
        "\n",
        "# Run Monte Carlo\n",
        "price_mc, ci_mc, s_mc, elapsed = mc_european_call_explicit(S0, K, r, sigma, t, T, M, seed)\n",
        "\n",
        "# Compare with Black–Scholes\n",
        "price_bs = bs_european_call(S0, K, r, sigma, T - t)\n",
        "\n",
        "print(f\"Monte Carlo (explicit GBM): {price_mc:.6f}, 95% CI=({ci_mc[0]:.6f}, {ci_mc[1]:.6f})\")\n",
        "print(f\"Black–Scholes analytic:    {price_bs:.6f}\")\n",
        "print(f\"Sample std of discounted payoffs: {s_mc:.6f}\")\n",
        "print(f\"Elapsed time: {elapsed:.3f} s\")"
      ],
      "metadata": {
        "colab": {
          "base_uri": "https://localhost:8080/"
        },
        "id": "wV_9H6qDx2IZ",
        "outputId": "d767f9be-f8a5-45ac-d83c-7937f21ed4a5"
      },
      "execution_count": 46,
      "outputs": [
        {
          "output_type": "stream",
          "name": "stdout",
          "text": [
            "Monte Carlo (explicit GBM): 10.457350, 95% CI=(10.365945, 10.548755)\n",
            "Black–Scholes analytic:    10.450584\n",
            "Sample std of discounted payoffs: 14.747370\n",
            "Elapsed time: 0.008 s\n"
          ]
        }
      ]
    }
  ]
}